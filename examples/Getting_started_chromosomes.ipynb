{
 "cells": [
  {
   "cell_type": "markdown",
   "metadata": {},
   "source": [
    "# Getting started: Chromosome Block Networks\n",
    "\n",
    "Here, our blocks are chromosomes and interactions between them are defined by the underlying gene co-expression network."
   ]
  },
  {
   "cell_type": "code",
   "execution_count": 124,
   "metadata": {},
   "outputs": [],
   "source": [
    "# Go to path where script is located\n",
    "!cd ~/pychromnet/\n",
    "import gene_network as gn"
   ]
  },
  {
   "cell_type": "code",
   "execution_count": 2,
   "metadata": {},
   "outputs": [],
   "source": [
    "import pandas as pd\n",
    "import numpy as np\n",
    "import matplotlib.pyplot as plt\n",
    "import seaborn as sns"
   ]
  },
  {
   "cell_type": "code",
   "execution_count": 78,
   "metadata": {},
   "outputs": [],
   "source": [
    "def symmetrize(a):\n",
    "    \"\"\"Symmetrize a non-symmetric matrix.\"\"\"\n",
    "    \n",
    "    return np.triu(a) + np.tril(a).T - np.diag(a.diagonal())"
   ]
  },
  {
   "cell_type": "markdown",
   "metadata": {},
   "source": [
    "## Global Variables"
   ]
  },
  {
   "cell_type": "code",
   "execution_count": 3,
   "metadata": {},
   "outputs": [],
   "source": [
    "BIO = '/Users/rdora/Downloads/biomart.txt'\n",
    "SIF = '/Users/rdora/Downloads/healthy.sif.10k'"
   ]
  },
  {
   "cell_type": "code",
   "execution_count": 109,
   "metadata": {},
   "outputs": [],
   "source": [
    "BASAL = '/Users/rdora/Downloads/basal.sif.10k'\n",
    "LUMA = '/Users/rdora/Downloads/luma.sif.10k'\n",
    "LUMB = '/Users/rdora/Downloads/lumb.sif.10k'\n",
    "HER2 = '/Users/rdora/Downloads/her2.sif.10k'"
   ]
  },
  {
   "cell_type": "markdown",
   "metadata": {},
   "source": [
    "## Load tables and networks"
   ]
  },
  {
   "cell_type": "markdown",
   "metadata": {},
   "source": [
    "### Healthy"
   ]
  },
  {
   "cell_type": "code",
   "execution_count": 5,
   "metadata": {},
   "outputs": [],
   "source": [
    "block_G, block_net = gn.gene_network(SIF,\n",
    "                           BIO,\n",
    "                           start='Gene start (bp)',\n",
    "                           block='Chromosome/scaffold name')"
   ]
  },
  {
   "cell_type": "markdown",
   "metadata": {},
   "source": [
    "### Basal"
   ]
  },
  {
   "cell_type": "code",
   "execution_count": 112,
   "metadata": {},
   "outputs": [],
   "source": [
    "basal_G, basal_net = gn.gene_network(BASAL,\n",
    "                           BIO,\n",
    "                           start='Gene start (bp)',\n",
    "                           block='Chromosome/scaffold name')"
   ]
  },
  {
   "cell_type": "markdown",
   "metadata": {},
   "source": [
    "### LumA"
   ]
  },
  {
   "cell_type": "code",
   "execution_count": 113,
   "metadata": {},
   "outputs": [],
   "source": [
    "luma_G, luma_net = gn.gene_network(LUMA,\n",
    "                           BIO,\n",
    "                           start='Gene start (bp)',\n",
    "                           block='Chromosome/scaffold name')"
   ]
  },
  {
   "cell_type": "markdown",
   "metadata": {},
   "source": [
    "### LumB"
   ]
  },
  {
   "cell_type": "code",
   "execution_count": 114,
   "metadata": {},
   "outputs": [],
   "source": [
    "lumb_G, lumb_net = gn.gene_network(LUMB,\n",
    "                           BIO,\n",
    "                           start='Gene start (bp)',\n",
    "                           block='Chromosome/scaffold name')"
   ]
  },
  {
   "cell_type": "markdown",
   "metadata": {},
   "source": [
    "### Her2"
   ]
  },
  {
   "cell_type": "code",
   "execution_count": 115,
   "metadata": {},
   "outputs": [],
   "source": [
    "her2_G, her2_net = gn.gene_network(HER2,\n",
    "                           BIO,\n",
    "                           start='Gene start (bp)',\n",
    "                           block='Chromosome/scaffold name')"
   ]
  },
  {
   "cell_type": "markdown",
   "metadata": {},
   "source": [
    "## Distribution of Co-expression across chromosomes"
   ]
  },
  {
   "cell_type": "code",
   "execution_count": 7,
   "metadata": {},
   "outputs": [
    {
     "data": {
      "text/html": [
       "<div>\n",
       "<style scoped>\n",
       "    .dataframe tbody tr th:only-of-type {\n",
       "        vertical-align: middle;\n",
       "    }\n",
       "\n",
       "    .dataframe tbody tr th {\n",
       "        vertical-align: top;\n",
       "    }\n",
       "\n",
       "    .dataframe thead th {\n",
       "        text-align: right;\n",
       "    }\n",
       "</style>\n",
       "<table border=\"1\" class=\"dataframe\">\n",
       "  <thead>\n",
       "    <tr style=\"text-align: right;\">\n",
       "      <th></th>\n",
       "      <th>Chromosome/scaffold name_1</th>\n",
       "      <th>Chromosome/scaffold name_2</th>\n",
       "      <th>strength</th>\n",
       "      <th>median_weight</th>\n",
       "      <th>max_weight</th>\n",
       "      <th>min_weight</th>\n",
       "      <th>std_weight</th>\n",
       "      <th>n_pairs</th>\n",
       "      <th>mean_distance</th>\n",
       "      <th>median_distance</th>\n",
       "    </tr>\n",
       "  </thead>\n",
       "  <tbody>\n",
       "    <tr>\n",
       "      <th>0</th>\n",
       "      <td>1</td>\n",
       "      <td>1</td>\n",
       "      <td>0.225747</td>\n",
       "      <td>0.206051</td>\n",
       "      <td>0.568734</td>\n",
       "      <td>0.180618</td>\n",
       "      <td>0.056433</td>\n",
       "      <td>240</td>\n",
       "      <td>7.208982e+07</td>\n",
       "      <td>60391117.5</td>\n",
       "    </tr>\n",
       "    <tr>\n",
       "      <th>1</th>\n",
       "      <td>1</td>\n",
       "      <td>10</td>\n",
       "      <td>0.213760</td>\n",
       "      <td>0.199553</td>\n",
       "      <td>0.374584</td>\n",
       "      <td>0.180812</td>\n",
       "      <td>0.039016</td>\n",
       "      <td>120</td>\n",
       "      <td>0.000000e+00</td>\n",
       "      <td>0.0</td>\n",
       "    </tr>\n",
       "    <tr>\n",
       "      <th>2</th>\n",
       "      <td>1</td>\n",
       "      <td>11</td>\n",
       "      <td>0.214147</td>\n",
       "      <td>0.208084</td>\n",
       "      <td>0.417730</td>\n",
       "      <td>0.180661</td>\n",
       "      <td>0.032721</td>\n",
       "      <td>138</td>\n",
       "      <td>0.000000e+00</td>\n",
       "      <td>0.0</td>\n",
       "    </tr>\n",
       "    <tr>\n",
       "      <th>3</th>\n",
       "      <td>1</td>\n",
       "      <td>12</td>\n",
       "      <td>0.215518</td>\n",
       "      <td>0.204078</td>\n",
       "      <td>0.361651</td>\n",
       "      <td>0.181398</td>\n",
       "      <td>0.034883</td>\n",
       "      <td>142</td>\n",
       "      <td>0.000000e+00</td>\n",
       "      <td>0.0</td>\n",
       "    </tr>\n",
       "    <tr>\n",
       "      <th>4</th>\n",
       "      <td>1</td>\n",
       "      <td>13</td>\n",
       "      <td>0.206606</td>\n",
       "      <td>0.206733</td>\n",
       "      <td>0.240360</td>\n",
       "      <td>0.182454</td>\n",
       "      <td>0.019454</td>\n",
       "      <td>20</td>\n",
       "      <td>0.000000e+00</td>\n",
       "      <td>0.0</td>\n",
       "    </tr>\n",
       "  </tbody>\n",
       "</table>\n",
       "</div>"
      ],
      "text/plain": [
       "  Chromosome/scaffold name_1 Chromosome/scaffold name_2  strength  \\\n",
       "0                          1                          1  0.225747   \n",
       "1                          1                         10  0.213760   \n",
       "2                          1                         11  0.214147   \n",
       "3                          1                         12  0.215518   \n",
       "4                          1                         13  0.206606   \n",
       "\n",
       "   median_weight  max_weight  min_weight  std_weight  n_pairs  mean_distance  \\\n",
       "0       0.206051    0.568734    0.180618    0.056433      240   7.208982e+07   \n",
       "1       0.199553    0.374584    0.180812    0.039016      120   0.000000e+00   \n",
       "2       0.208084    0.417730    0.180661    0.032721      138   0.000000e+00   \n",
       "3       0.204078    0.361651    0.181398    0.034883      142   0.000000e+00   \n",
       "4       0.206733    0.240360    0.182454    0.019454       20   0.000000e+00   \n",
       "\n",
       "   median_distance  \n",
       "0       60391117.5  \n",
       "1              0.0  \n",
       "2              0.0  \n",
       "3              0.0  \n",
       "4              0.0  "
      ]
     },
     "execution_count": 7,
     "metadata": {},
     "output_type": "execute_result"
    }
   ],
   "source": [
    "block_net.head()"
   ]
  },
  {
   "cell_type": "markdown",
   "metadata": {},
   "source": [
    "## Data pre-processing"
   ]
  },
  {
   "cell_type": "markdown",
   "metadata": {},
   "source": [
    "### Healthy"
   ]
  },
  {
   "cell_type": "code",
   "execution_count": 20,
   "metadata": {},
   "outputs": [],
   "source": [
    "df = block_net.rename(columns={'Chromosome/scaffold name_1': 'chrom_1',\n",
    "               'Chromosome/scaffold name_2': 'chrom_2'})\n",
    "\n",
    "df = df.replace('X', '23')\n",
    "\n",
    "df['chrom_1'] = df['chrom_1'].astype('int')\n",
    "df['chrom_2'] = df['chrom_2'].astype('int')\n",
    "\n",
    "df = df.sort_values(['chrom_1', 'chrom_2'])"
   ]
  },
  {
   "cell_type": "markdown",
   "metadata": {},
   "source": [
    "### Basal"
   ]
  },
  {
   "cell_type": "code",
   "execution_count": 94,
   "metadata": {},
   "outputs": [],
   "source": [
    "basal = basal_net.rename(columns={'Chromosome/scaffold name_1': 'chrom_1',\n",
    "               'Chromosome/scaffold name_2': 'chrom_2'})\n",
    "\n",
    "basal = basal.replace('X', '23')\n",
    "\n",
    "basal['chrom_1'] = basal['chrom_1'].astype('int')\n",
    "basal['chrom_2'] = basal['chrom_2'].astype('int')\n",
    "\n",
    "basal = basal.sort_values(['chrom_1', 'chrom_2'])"
   ]
  },
  {
   "cell_type": "markdown",
   "metadata": {},
   "source": [
    "### LumA"
   ]
  },
  {
   "cell_type": "code",
   "execution_count": 117,
   "metadata": {},
   "outputs": [],
   "source": [
    "luma = luma_net.rename(columns={'Chromosome/scaffold name_1': 'chrom_1',\n",
    "               'Chromosome/scaffold name_2': 'chrom_2'})\n",
    "\n",
    "luma = luma.replace('X', '23')\n",
    "\n",
    "luma['chrom_1'] = luma['chrom_1'].astype('int')\n",
    "luma['chrom_2'] = luma['chrom_2'].astype('int')\n",
    "\n",
    "luma = luma.sort_values(['chrom_1', 'chrom_2'])"
   ]
  },
  {
   "cell_type": "markdown",
   "metadata": {},
   "source": [
    "### LumB"
   ]
  },
  {
   "cell_type": "code",
   "execution_count": 118,
   "metadata": {},
   "outputs": [],
   "source": [
    "lumb = lumb_net.rename(columns={'Chromosome/scaffold name_1': 'chrom_1',\n",
    "               'Chromosome/scaffold name_2': 'chrom_2'})\n",
    "\n",
    "lumb = lumb.replace('X', '23')\n",
    "\n",
    "lumb['chrom_1'] = lumb['chrom_1'].astype('int')\n",
    "lumb['chrom_2'] = lumb['chrom_2'].astype('int')\n",
    "\n",
    "lumb = lumb.sort_values(['chrom_1', 'chrom_2'])"
   ]
  },
  {
   "cell_type": "markdown",
   "metadata": {},
   "source": [
    "### Her-2"
   ]
  },
  {
   "cell_type": "code",
   "execution_count": 119,
   "metadata": {},
   "outputs": [],
   "source": [
    "her2 = her2_net.rename(columns={'Chromosome/scaffold name_1': 'chrom_1',\n",
    "               'Chromosome/scaffold name_2': 'chrom_2'})\n",
    "\n",
    "her2 = her2.replace('X', '23')\n",
    "\n",
    "her2['chrom_1'] = her2['chrom_1'].astype('int')\n",
    "her2['chrom_2'] = her2['chrom_2'].astype('int')\n",
    "\n",
    "her2 = her2.sort_values(['chrom_1', 'chrom_2'])"
   ]
  },
  {
   "cell_type": "markdown",
   "metadata": {},
   "source": [
    "## Heatmaps"
   ]
  },
  {
   "cell_type": "code",
   "execution_count": 82,
   "metadata": {},
   "outputs": [
    {
     "data": {
      "text/plain": [
       "Index(['chrom_1', 'chrom_2', 'strength', 'median_weight', 'max_weight',\n",
       "       'min_weight', 'std_weight', 'n_pairs', 'mean_distance',\n",
       "       'median_distance'],\n",
       "      dtype='object')"
      ]
     },
     "execution_count": 82,
     "metadata": {},
     "output_type": "execute_result"
    }
   ],
   "source": [
    "df.columns"
   ]
  },
  {
   "cell_type": "code",
   "execution_count": 107,
   "metadata": {},
   "outputs": [],
   "source": [
    "target_value = 'strength'"
   ]
  },
  {
   "cell_type": "markdown",
   "metadata": {},
   "source": [
    "### Healthy"
   ]
  },
  {
   "cell_type": "code",
   "execution_count": 108,
   "metadata": {},
   "outputs": [
    {
     "data": {
      "text/plain": [
       "<matplotlib.axes._subplots.AxesSubplot at 0x122f39860>"
      ]
     },
     "execution_count": 108,
     "metadata": {},
     "output_type": "execute_result"
    },
    {
     "data": {
      "image/png": "[encoded data removed]",
      "text/plain": [
       "<Figure size 432x288 with 2 Axes>"
      ]
     },
     "metadata": {
      "needs_background": "light"
     },
     "output_type": "display_data"
    }
   ],
   "source": [
    "df_s = df[['chrom_1', 'chrom_2', target_value]]\n",
    "\n",
    "mat_s = pd.pivot(df_s, index='chrom_1', columns='chrom_2').values\n",
    "\n",
    "mat_s = np.nan_to_num(mat_s, nan=0)\n",
    "\n",
    "mat_s = symmetrize(mat_s)\n",
    "mat_s = np.where(mat_s==0, np.nan, mat_s)\n",
    "sns.heatmap(mat_s, cmap='Blues')"
   ]
  },
  {
   "cell_type": "markdown",
   "metadata": {},
   "source": [
    "### Basal"
   ]
  },
  {
   "cell_type": "code",
   "execution_count": 104,
   "metadata": {},
   "outputs": [
    {
     "data": {
      "text/plain": [
       "<matplotlib.axes._subplots.AxesSubplot at 0x11b081588>"
      ]
     },
     "execution_count": 104,
     "metadata": {},
     "output_type": "execute_result"
    },
    {
     "data": {
      "image/png": "[encoded data removed]",
      "text/plain": [
       "<Figure size 432x288 with 2 Axes>"
      ]
     },
     "metadata": {
      "needs_background": "light"
     },
     "output_type": "display_data"
    }
   ],
   "source": [
    "df_s = basal[['chrom_1', 'chrom_2', target_value]]\n",
    "\n",
    "mat_s = pd.pivot(df_s, index='chrom_1', columns='chrom_2').values\n",
    "\n",
    "mat_s = np.nan_to_num(mat_s, nan=0)\n",
    "\n",
    "mat_s = symmetrize(mat_s)\n",
    "mat_s = np.where(mat_s==0, np.nan, mat_s)\n",
    "sns.heatmap(mat_s, cmap='Blues')"
   ]
  },
  {
   "cell_type": "markdown",
   "metadata": {},
   "source": [
    "### LumA"
   ]
  },
  {
   "cell_type": "code",
   "execution_count": 120,
   "metadata": {},
   "outputs": [
    {
     "data": {
      "text/plain": [
       "<matplotlib.axes._subplots.AxesSubplot at 0x1229092e8>"
      ]
     },
     "execution_count": 120,
     "metadata": {},
     "output_type": "execute_result"
    },
    {
     "data": {
      "image/png": "[encoded data removed]",
      "text/plain": [
       "<Figure size 432x288 with 2 Axes>"
      ]
     },
     "metadata": {
      "needs_background": "light"
     },
     "output_type": "display_data"
    }
   ],
   "source": [
    "df_s = luma[['chrom_1', 'chrom_2', target_value]]\n",
    "\n",
    "mat_s = pd.pivot(df_s, index='chrom_1', columns='chrom_2').values\n",
    "\n",
    "mat_s = np.nan_to_num(mat_s, nan=0)\n",
    "\n",
    "mat_s = symmetrize(mat_s)\n",
    "mat_s = np.where(mat_s==0, np.nan, mat_s)\n",
    "sns.heatmap(mat_s, cmap='Blues')"
   ]
  },
  {
   "cell_type": "markdown",
   "metadata": {},
   "source": [
    "### LumB"
   ]
  },
  {
   "cell_type": "code",
   "execution_count": 121,
   "metadata": {},
   "outputs": [
    {
     "data": {
      "text/plain": [
       "<matplotlib.axes._subplots.AxesSubplot at 0x1255892b0>"
      ]
     },
     "execution_count": 121,
     "metadata": {},
     "output_type": "execute_result"
    },
    {
     "data": {
      "image/png": "[encoded data removed]",
      "text/plain": [
       "<Figure size 432x288 with 2 Axes>"
      ]
     },
     "metadata": {
      "needs_background": "light"
     },
     "output_type": "display_data"
    }
   ],
   "source": [
    "df_s = lumb[['chrom_1', 'chrom_2', target_value]]\n",
    "\n",
    "mat_s = pd.pivot(df_s, index='chrom_1', columns='chrom_2').values\n",
    "\n",
    "mat_s = np.nan_to_num(mat_s, nan=0)\n",
    "\n",
    "mat_s = symmetrize(mat_s)\n",
    "mat_s = np.where(mat_s==0, np.nan, mat_s)\n",
    "sns.heatmap(mat_s, cmap='Blues')"
   ]
  },
  {
   "cell_type": "markdown",
   "metadata": {},
   "source": [
    "### Her2"
   ]
  },
  {
   "cell_type": "code",
   "execution_count": 122,
   "metadata": {},
   "outputs": [
    {
     "data": {
      "text/plain": [
       "<matplotlib.axes._subplots.AxesSubplot at 0x123ac8438>"
      ]
     },
     "execution_count": 122,
     "metadata": {},
     "output_type": "execute_result"
    },
    {
     "data": {
      "image/png": "[encoded data removed]",
      "text/plain": [
       "<Figure size 432x288 with 2 Axes>"
      ]
     },
     "metadata": {
      "needs_background": "light"
     },
     "output_type": "display_data"
    }
   ],
   "source": [
    "df_s = her2[['chrom_1', 'chrom_2', target_value]]\n",
    "\n",
    "mat_s = pd.pivot(df_s, index='chrom_1', columns='chrom_2').values\n",
    "\n",
    "mat_s = np.nan_to_num(mat_s, nan=0)\n",
    "\n",
    "mat_s = symmetrize(mat_s)\n",
    "mat_s = np.where(mat_s==0, np.nan, mat_s)\n",
    "sns.heatmap(mat_s, cmap='Blues')"
   ]
  }
 ],
 "metadata": {
  "kernelspec": {
   "display_name": "Python 3",
   "language": "python",
   "name": "python3"
  },
  "language_info": {
   "codemirror_mode": {
    "name": "ipython",
    "version": 3
   },
   "file_extension": ".py",
   "mimetype": "text/x-python",
   "name": "python",
   "nbconvert_exporter": "python",
   "pygments_lexer": "ipython3",
   "version": "3.7.3"
  }
 },
 "nbformat": 4,
 "nbformat_minor": 2
}
