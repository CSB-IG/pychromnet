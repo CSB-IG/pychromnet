{
 "cells": [
  {
   "cell_type": "code",
   "execution_count": 1,
   "metadata": {},
   "outputs": [],
   "source": [
    "import pandas as pd\n",
    "import numpy as np\n",
    "import matplotlib.pyplot as plt\n",
    "import seaborn as sns"
   ]
  },
  {
   "cell_type": "code",
   "execution_count": 2,
   "metadata": {},
   "outputs": [],
   "source": [
    "from os.path import join"
   ]
  },
  {
   "cell_type": "code",
   "execution_count": 3,
   "metadata": {},
   "outputs": [],
   "source": [
    "from sklearn.metrics import mean_squared_error"
   ]
  },
  {
   "cell_type": "code",
   "execution_count": 4,
   "metadata": {},
   "outputs": [],
   "source": [
    "from matplotlib import rc\n",
    "rc('font',**{'family':'sans-serif','sans-serif':['Helvetica']})\n",
    "## for Palatino and other serif fonts use:\n",
    "#rc('font',**{'family':'serif','serif':['Palatino']})\n",
    "rc('text', usetex=True)"
   ]
  },
  {
   "cell_type": "code",
   "execution_count": 5,
   "metadata": {},
   "outputs": [],
   "source": [
    "from sklearn.linear_model import LinearRegression\n",
    "from sklearn import metrics"
   ]
  },
  {
   "cell_type": "markdown",
   "metadata": {},
   "source": [
    "# Structural evolution of multilayer GCN\n",
    "\n",
    "In order to assess the structural evolution involved in the co-expression program, we:\n",
    "\n",
    "1. Set the structural measures of interest\n",
    "2. Show their differences in terms of healthy and breast cancer tissues\n",
    "3. Show their relation to chromosomal connectivity\n",
    "4. Identify a known network-generator mechanism"
   ]
  },
  {
   "cell_type": "code",
   "execution_count": 6,
   "metadata": {},
   "outputs": [],
   "source": [
    "DATA = \"/Users/rdora/breast_cancer/data/\"\n",
    "FIG = \"/Users/rdora/Dropbox/inmegen/breast_cancer/article/figures/\""
   ]
  },
  {
   "cell_type": "code",
   "execution_count": 7,
   "metadata": {},
   "outputs": [],
   "source": [
    "df = pd.read_csv(join(DATA, \"netparams_tidy.csv\"))"
   ]
  },
  {
   "cell_type": "code",
   "execution_count": 8,
   "metadata": {},
   "outputs": [],
   "source": [
    "df = df[df.Tissue.isin([\"Healthy\", \"Basal\"])]"
   ]
  },
  {
   "cell_type": "code",
   "execution_count": 9,
   "metadata": {},
   "outputs": [],
   "source": [
    "df = df[df.Param != \"A.A\"]"
   ]
  },
  {
   "cell_type": "code",
   "execution_count": 10,
   "metadata": {},
   "outputs": [],
   "source": [
    "df = df[df.Layer >= 0]"
   ]
  },
  {
   "cell_type": "code",
   "execution_count": 11,
   "metadata": {},
   "outputs": [],
   "source": [
    "df.loc[df.Param==\"Size\", \"Value\"] = df.loc[df.Param=='Size', \"Value\"] / 1000"
   ]
  },
  {
   "cell_type": "code",
   "execution_count": 12,
   "metadata": {},
   "outputs": [
    {
     "data": {
      "image/png": "[encoded data removed]",
      "text/plain": [
       "<Figure size 432x216 with 8 Axes>"
      ]
     },
     "metadata": {
      "needs_background": "light"
     },
     "output_type": "display_data"
    }
   ],
   "source": [
    "# FacetGrid\n",
    "with sns.hls_palette(4, l=.5, s=.3):\n",
    "    g = sns.FacetGrid(col=\"Param\",\n",
    "                 row=\"Tissue\",\n",
    "                 hue=\"Param\",\n",
    "                 data=df,\n",
    "                 sharey=\"col\",\n",
    "                 height=1.5,\n",
    "                 aspect=1,\n",
    "                 margin_titles=True)\n",
    "\n",
    "    g.map(plt.scatter, \"Layer\", \"Value\", alpha=0.8, s=10, marker='o')\n",
    "[plt.setp(ax.texts, text=\"\") for ax in g.axes.flat]\n",
    "g.set_titles(row_template = '', col_template = '{col_name}')\n",
    "\n",
    "# Change y axis\n",
    "g.axes[0,0].set_ylabel(r'\\textbf{\\Large Healthy}')\n",
    "g.axes[1,0].set_ylabel(r'\\textbf{\\Large Basal}')\n",
    "\n",
    "g.fig.text(0, 1, r'\\textbf{\\Large A}', fontweight='bold')\n",
    "g.axes[0,0].set_title(r'Mean Degree')\n",
    "g.axes[0,1].set_title('Std Degree')\n",
    "g.axes[0,2].set_title('DAC')\n",
    "g.axes[0,3].set_title(r'Size ({\\small x1000})')\n",
    "# g.axes[3,0].set_ylabel('Size (x1000)')\n",
    "\n",
    "# SaveFig\n",
    "g.savefig(join(FIG, \"structure_evolution.png\"), dpi=300)"
   ]
  },
  {
   "cell_type": "markdown",
   "metadata": {},
   "source": [
    "# Structural measures: Values\n",
    "\n",
    "Deviation from noise."
   ]
  },
  {
   "cell_type": "code",
   "execution_count": 13,
   "metadata": {},
   "outputs": [],
   "source": [
    "tissues = df.Tissue.unique()\n",
    "measures = df.Param.unique()\n",
    "random = [[14.449772, 14.511538],\n",
    "          [3.831434, 3.823713],\n",
    "          [-0.003132, -0.002048],\n",
    "          [14.474000, 14.474000]]\n",
    "data = []\n",
    "for tissue in tissues:\n",
    "    for i, measure in enumerate(measures):\n",
    "        vals = df[(df.Tissue==tissue) & (df.Param==measure)]['Value'].values\n",
    "        if tissue == 'healthy':\n",
    "            norm1 = np.abs((vals - random[i][0]).sum())\n",
    "        else:\n",
    "            norm1 = np.abs((vals - random[i][1]).sum())\n",
    "        data.append([tissue, measure, norm1])\n",
    "df_norm1 = pd.DataFrame(data, columns=['tissue', 'Measure', 'norm1'])"
   ]
  },
  {
   "cell_type": "code",
   "execution_count": 14,
   "metadata": {},
   "outputs": [
    {
     "data": {
      "text/plain": [
       "-8.241000000000012"
      ]
     },
     "execution_count": 14,
     "metadata": {},
     "output_type": "execute_result"
    }
   ],
   "source": [
    "(df[(df.Tissue=='Healthy') & (df.Param=='Size')]['Value'].values - 14.474000).sum()"
   ]
  },
  {
   "cell_type": "code",
   "execution_count": 60,
   "metadata": {},
   "outputs": [
    {
     "data": {
      "image/png": "[encoded data removed]",
      "text/plain": [
       "<Figure size 213.474x144 with 1 Axes>"
      ]
     },
     "metadata": {
      "needs_background": "light"
     },
     "output_type": "display_data"
    }
   ],
   "source": [
    "replace = {'Mean Deg': 'Mean degree',\n",
    "          'Std Deg': 'Std Degree',\n",
    "          'D.A': 'DAC'}\n",
    "df_norm1 = df_norm1.replace(replace)\n",
    "df_norm1 = df_norm1.rename(columns={'tissue': 'Tissue'})\n",
    "with sns.color_palette('deep'):\n",
    "    g = sns.catplot(x=\"Measure\", y=\"norm1\",\n",
    "                    hue=\"Tissue\",\n",
    "                 data=df_norm1, saturation=.5,\n",
    "                 kind=\"bar\", ci=None, aspect=1,\n",
    "                   height=2)\n",
    "g.set(yscale = 'symlog')\n",
    "[plt.setp(ax.texts, text=\"\") for ax in g.axes.flat]\n",
    "#g.set_titles(row_template = '', col_template = '{col_name}')\n",
    "g.set_xticklabels(rotation=90)\n",
    "# Labels and titles\n",
    "g.axes[0,0].set_ylabel('Deviation from random')\n",
    "\n",
    "\n",
    "g.fig.text(0, .8, r'\\textbf{\\Large B}', fontweight='bold')\n",
    "\n",
    "g.savefig(join(FIG, \"structural_deviation.png\"), dpi=300)"
   ]
  },
  {
   "cell_type": "code",
   "execution_count": 193,
   "metadata": {},
   "outputs": [],
   "source": [
    "tissues = df.Tissue.unique()\n",
    "measures = df.Param.unique()\n",
    "random = [[14.449772, 14.511538],\n",
    "          [3.831434, 3.823713],\n",
    "          [-0.003132, -0.002048],\n",
    "          [14.474000, 14.474000]]\n",
    "data = []\n",
    "df_95 = df[df.Layer < 95]\n",
    "for tissue in tissues:\n",
    "    for i, measure in enumerate(measures):\n",
    "        vals = df_95[(df_95.Tissue==tissue) & (df_95.Param==measure)]['Value'].values\n",
    "        if tissue == 'Healthy':\n",
    "            norm1 = np.abs((vals - random[i][0]).sum())\n",
    "        else:\n",
    "            norm1 = np.abs((vals - random[i][1]).sum())\n",
    "        data.append([tissue, measure, norm1])\n",
    "df_95_norm1 = pd.DataFrame(data, columns=['tissue', 'Measure', 'norm1'])"
   ]
  },
  {
   "cell_type": "code",
   "execution_count": 390,
   "metadata": {},
   "outputs": [
    {
     "data": {
      "text/plain": [
       "Text(9.567408473108655, 0.5, 'Deviation from random')"
      ]
     },
     "execution_count": 390,
     "metadata": {},
     "output_type": "execute_result"
    },
    {
     "data": {
      "image/png": "[encoded data removed]",
      "text/plain": [
       "<Figure size 216x108 with 2 Axes>"
      ]
     },
     "metadata": {
      "needs_background": "light"
     },
     "output_type": "display_data"
    }
   ],
   "source": [
    "replace = {'Mean Deg': 'Mean degree',\n",
    "          'Std Deg': 'Std Degree',\n",
    "          'D.A': 'DAC'}\n",
    "df_95_norm1 = df_95_norm1.replace(replace)\n",
    "with sns.hls_palette(4, l=.3, s=.8):\n",
    "    g = sns.catplot(x=\"Measure\", y=\"norm1\", col=\"tissue\",\n",
    "                 data=df_95_norm1, saturation=.5,\n",
    "                 kind=\"bar\", ci=None, aspect=1,\n",
    "                   height=1.5)\n",
    "g.set(yscale = 'symlog')\n",
    "[plt.setp(ax.texts, text=\"\") for ax in g.axes.flat]\n",
    "g.set_titles(row_template = '', col_template = '{col_name}')\n",
    "g.set_xticklabels(rotation=90)\n",
    "g.axes[0,0].set_ylabel('Deviation from random')\n",
    "\n",
    "# g.savefig(join(FIG, \"structural_deviation.png\"), dpi=300)"
   ]
  },
  {
   "cell_type": "markdown",
   "metadata": {},
   "source": [
    "# Relation between DAC and AAC"
   ]
  },
  {
   "cell_type": "code",
   "execution_count": 33,
   "metadata": {},
   "outputs": [],
   "source": [
    "df_net = pd.read_csv(join(DATA, 'net_params_clean.csv'))"
   ]
  },
  {
   "cell_type": "code",
   "execution_count": 34,
   "metadata": {},
   "outputs": [],
   "source": [
    "df_net = df_net[df_net.Layer >= 0]\n",
    "df_net = df_net[df_net.Tissue.isin(['Healthy', 'Basal'])]"
   ]
  },
  {
   "cell_type": "code",
   "execution_count": 61,
   "metadata": {},
   "outputs": [
    {
     "data": {
      "image/png": "[encoded data removed]",
      "text/plain": [
       "<Figure size 158.4x158.4 with 1 Axes>"
      ]
     },
     "metadata": {
      "needs_background": "light"
     },
     "output_type": "display_data"
    }
   ],
   "source": [
    "x = np.linspace(0, 1, 1000)\n",
    "\n",
    "with sns.color_palette('deep'):\n",
    "    g = sns.lmplot(x=\"A.A\", y=\"D.A\",\n",
    "                   hue=\"Tissue\", data=df_net,\n",
    "                   height=2.2, aspect=1, scatter_kws={\"s\": 10},\n",
    "                   line_kws={\"linewidth\": 1}, legend=False)\n",
    "\n",
    "# Set limits\n",
    "g.axes[0,0].set_ylim(0, 1)\n",
    "\n",
    "\n",
    "g.axes[0,0].set_xlabel('AAC')\n",
    "g.axes[0,0].set_ylabel('DAC')\n",
    "\n",
    "g.axes[0,0].plot(x, x, linestyle='--', c='k')\n",
    "\n",
    "# New legend\n",
    "l1, = plt.plot([], [], linestyle=\"-\", color=(\n",
    "    0.2980392156862745, 0.4470588235294118, 0.6901960784313725),\n",
    "             label=\"Healthy\")\n",
    "\n",
    "l2, = plt.plot([], [], linestyle=\"-\", color=(\n",
    "    0.8666666666666667, 0.5176470588235295, 0.3215686274509804),\n",
    "             label=\"Basal\")\n",
    "\n",
    "first_legend = plt.legend(handles=[l1, l2], loc=(0.9, 0.7),\n",
    "                         frameon=False, title=\"Linear regression fit\")\n",
    "\n",
    "\n",
    "# Letter\n",
    "g.fig.text(0, 1, r'\\textbf{\\Large C}', fontweight='bold')\n",
    "\n",
    "g.savefig(join(FIG, 'assortativity_relation.png'), dpi=300)"
   ]
  },
  {
   "cell_type": "markdown",
   "metadata": {},
   "source": [
    "## Regressor"
   ]
  },
  {
   "cell_type": "code",
   "execution_count": 344,
   "metadata": {},
   "outputs": [],
   "source": [
    "regressor = LinearRegression()"
   ]
  },
  {
   "cell_type": "code",
   "execution_count": 381,
   "metadata": {},
   "outputs": [
    {
     "name": "stdout",
     "output_type": "stream",
     "text": [
      "Slope: 11.32193523692171\n",
      "Intercept: 0.01485897791078479\n"
     ]
    }
   ],
   "source": [
    "X = df_net[df_net.Tissue=='Healthy']['A.A'].values.reshape(101, 1)\n",
    "y = df_net[df_net.Tissue=='Healthy']['D.A'].values.reshape(101, 1)\n",
    "regressor.fit(X, y)\n",
    "\n",
    "print(\"Slope:\", regressor.coef_[0][0])\n",
    "\n",
    "print(\"Intercept:\", regressor.intercept_[0])"
   ]
  },
  {
   "cell_type": "code",
   "execution_count": 382,
   "metadata": {},
   "outputs": [
    {
     "data": {
      "text/plain": [
       "0.00018429275557905176"
      ]
     },
     "execution_count": 382,
     "metadata": {},
     "output_type": "execute_result"
    }
   ],
   "source": [
    "y_pred = regressor.predict(X)\n",
    "mean_squared_error(y, y_pred)"
   ]
  },
  {
   "cell_type": "code",
   "execution_count": 383,
   "metadata": {},
   "outputs": [
    {
     "name": "stdout",
     "output_type": "stream",
     "text": [
      "Slope: 0.40728236426535747\n",
      "Intercept: 0.0002431473442160957\n"
     ]
    }
   ],
   "source": [
    "X = df_net[df_net.Tissue=='Basal']['A.A'].values.reshape(101, 1)\n",
    "y = df_net[df_net.Tissue=='Basal']['D.A'].values.reshape(101, 1)\n",
    "regressor.fit(X, y)\n",
    "\n",
    "print(\"Slope:\", regressor.coef_[0][0])\n",
    "\n",
    "print(\"Intercept:\", regressor.intercept_[0])"
   ]
  },
  {
   "cell_type": "code",
   "execution_count": 384,
   "metadata": {},
   "outputs": [
    {
     "data": {
      "text/plain": [
       "1.5268091475159953e-05"
      ]
     },
     "execution_count": 384,
     "metadata": {},
     "output_type": "execute_result"
    }
   ],
   "source": [
    "y_pred = regressor.predict(X)\n",
    "\n",
    "mean_squared_error(y, y_pred)"
   ]
  }
 ],
 "metadata": {
  "kernelspec": {
   "display_name": "Python 3",
   "language": "python",
   "name": "python3"
  },
  "language_info": {
   "codemirror_mode": {
    "name": "ipython",
    "version": 3
   },
   "file_extension": ".py",
   "mimetype": "text/x-python",
   "name": "python",
   "nbconvert_exporter": "python",
   "pygments_lexer": "ipython3",
   "version": "3.7.3"
  }
 },
 "nbformat": 4,
 "nbformat_minor": 2
}
