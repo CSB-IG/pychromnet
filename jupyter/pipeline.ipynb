{
 "cells": [
  {
   "cell_type": "code",
   "execution_count": 1,
   "metadata": {},
   "outputs": [],
   "source": [
    "import pandas as pd\n",
    "import numpy as np\n",
    "import matplotlib.pyplot as plt\n",
    "import seaborn as sns"
   ]
  },
  {
   "cell_type": "code",
   "execution_count": 3,
   "metadata": {},
   "outputs": [],
   "source": [
    "from matplotlib import rc\n",
    "rc('font',**{'family':'sans-serif','sans-serif':['Helvetica']})\n",
    "## for Palatino and other serif fonts use:\n",
    "#rc('font',**{'family':'serif','serif':['Palatino']})\n",
    "rc('text', usetex=True)"
   ]
  },
  {
   "cell_type": "code",
   "execution_count": 4,
   "metadata": {},
   "outputs": [],
   "source": [
    "from os.path import join"
   ]
  },
  {
   "cell_type": "code",
   "execution_count": 2,
   "metadata": {},
   "outputs": [],
   "source": [
    "FIG = \"/Users/rdora/Dropbox/inmegen/breast_cancer/article/figures/\"\n",
    "DATA = \"/Users/rdora/breast_cancer/data/\""
   ]
  },
  {
   "cell_type": "code",
   "execution_count": 66,
   "metadata": {},
   "outputs": [],
   "source": [
    "healthy = np.genfromtxt(join(DATA, \"sample_healthy.txt\"))"
   ]
  },
  {
   "cell_type": "code",
   "execution_count": 67,
   "metadata": {},
   "outputs": [],
   "source": [
    "basal = np.genfromtxt(join(DATA, \"sample_basal.txt\"))"
   ]
  },
  {
   "cell_type": "code",
   "execution_count": 69,
   "metadata": {},
   "outputs": [],
   "source": [
    "healthy = list([h, \"Healthy\"] for h in healthy)"
   ]
  },
  {
   "cell_type": "code",
   "execution_count": 70,
   "metadata": {},
   "outputs": [],
   "source": [
    "basal = list([h, \"Basal\"] for h in basal)"
   ]
  },
  {
   "cell_type": "code",
   "execution_count": 71,
   "metadata": {},
   "outputs": [],
   "source": [
    "df = pd.DataFrame(healthy + basal, columns=['MI', 'Tissue'])"
   ]
  },
  {
   "cell_type": "code",
   "execution_count": 72,
   "metadata": {},
   "outputs": [],
   "source": [
    "q_h = np.quantile(df[df.Tissue=='Healthy']['MI'], q=.9)\n",
    "q_b = np.quantile(df[df.Tissue=='Basal']['MI'], q=.9)"
   ]
  },
  {
   "cell_type": "code",
   "execution_count": 76,
   "metadata": {},
   "outputs": [],
   "source": [
    "m_h = np.quantile(df[df.Tissue=='Healthy']['MI'], q=.5)\n",
    "m_b = np.quantile(df[df.Tissue=='Basal']['MI'], q=.5)"
   ]
  },
  {
   "cell_type": "code",
   "execution_count": 143,
   "metadata": {},
   "outputs": [],
   "source": [
    "fig.savefig?"
   ]
  },
  {
   "cell_type": "code",
   "execution_count": 149,
   "metadata": {},
   "outputs": [
    {
     "data": {
      "image/png": "[encoded data removed]",
      "text/plain": [
       "<Figure size 432x144 with 2 Axes>"
      ]
     },
     "metadata": {
      "needs_background": "light"
     },
     "output_type": "display_data"
    }
   ],
   "source": [
    "fig, axs = plt.subplots(1,2, figsize=(6, 2))\n",
    "\n",
    "blue = (0.2980392156862745, 0.4470588235294118, 0.6901960784313725)\n",
    "orange = (0.8666666666666667, 0.5176470588235295, 0.3215686274509804)\n",
    "\n",
    "sns.distplot(df[df.Tissue==\"Healthy\"]['MI'], color=blue, ax=axs[0])\n",
    "sns.distplot(df[df.Tissue==\"Basal\"]['MI'], color=orange, ax=axs[1])\n",
    "\n",
    "# Vertical lines\n",
    "axs[0].axvline(q_h, linestyle=\"--\", color=blue)\n",
    "axs[1].axvline(q_b, linestyle=\"--\", color=orange)\n",
    "\n",
    "axs[0].set_xlim(0, 0.1)\n",
    "axs[1].set_xlim(0, 0.1);\n",
    "\n",
    "# Medians\n",
    "axs[0].axvline(m_h, linestyle=\"--\", color=blue)\n",
    "axs[1].axvline(m_b, linestyle=\"--\", color=orange)\n",
    "\n",
    "axs[0].arrow(0.31, 0.5, 0.1, 0, transform=axs[0].transAxes, width=0.02,\n",
    "            facecolor=blue, edgecolor=blue)\n",
    "axs[0].text(0.35, 0.55, \"layers 1--100\", transform=axs[0].transAxes, fontdict={\"color\": blue})\n",
    "\n",
    "axs[0].arrow(0.2, 0.97, 0.3, 0, transform=axs[0].transAxes, width=0.001,\n",
    "            facecolor=blue, edgecolor=blue)\n",
    "axs[0].text(0.52, 0.92, \"layer 0\", transform=axs[0].transAxes, fontdict={\"color\": blue})\n",
    "\n",
    "# Basal\n",
    "axs[1].arrow(0.31, 0.5, 0.1, 0, transform=axs[1].transAxes, width=0.02,\n",
    "            facecolor=orange, edgecolor=orange)\n",
    "axs[1].text(0.35, 0.55, \"layers 1--100\", transform=axs[1].transAxes, fontdict={\"color\": orange})\n",
    "\n",
    "axs[1].arrow(0.2, 0.97, 0.3, 0, transform=axs[1].transAxes, width=0.001,\n",
    "            facecolor=blue, edgecolor=orange)\n",
    "axs[1].text(0.52, 0.92, \"layer 0\", transform=axs[1].transAxes, fontdict={\"color\": orange})\n",
    "\n",
    "axs[0].set_title(\"Healthy\")\n",
    "axs[1].set_title(\"Basal\")\n",
    "\n",
    "# axs[0].set_xticklabels([])\n",
    "axs[0].set_xlabel(\"\")\n",
    "axs[1].set_xlabel(\"\")\n",
    "axs[0].text(0.9, -.3, \"Co-expression\", transform=axs[0].transAxes, fontdict={\"size\":10})\n",
    "axs[0].text(-.2, 0.3, \"Gene pairs\", rotation=90, transform=axs[0].transAxes)\n",
    "\n",
    "#fig.tight_layout();\n",
    "\n",
    "fig.savefig(join(FIG, \"sample_dists.png\"), dpi=300, bbox_inches=\"tight\")"
   ]
  }
 ],
 "metadata": {
  "kernelspec": {
   "display_name": "Python 3",
   "language": "python",
   "name": "python3"
  },
  "language_info": {
   "codemirror_mode": {
    "name": "ipython",
    "version": 3
   },
   "file_extension": ".py",
   "mimetype": "text/x-python",
   "name": "python",
   "nbconvert_exporter": "python",
   "pygments_lexer": "ipython3",
   "version": "3.7.3"
  }
 },
 "nbformat": 4,
 "nbformat_minor": 2
}
