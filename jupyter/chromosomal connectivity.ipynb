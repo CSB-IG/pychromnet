{
 "cells": [
  {
   "cell_type": "code",
   "execution_count": 1,
   "metadata": {},
   "outputs": [],
   "source": [
    "import networkx as nx\n",
    "import pandas as pd\n",
    "import numpy as np\n",
    "from os.path import join\n",
    "from glob import glob"
   ]
  },
  {
   "cell_type": "code",
   "execution_count": 2,
   "metadata": {},
   "outputs": [],
   "source": [
    "import matplotlib.pyplot as plt\n",
    "import seaborn as sns\n",
    "\n",
    "from sklearn.metrics import mean_squared_error\n",
    "\n",
    "from matplotlib import rc\n",
    "rc('font',**{'family':'sans-serif','sans-serif':['Helvetica']})\n",
    "## for Palatino and other serif fonts use:\n",
    "#rc('font',**{'family':'serif','serif':['Palatino']})\n",
    "rc('text', usetex=True)"
   ]
  },
  {
   "cell_type": "code",
   "execution_count": 50,
   "metadata": {},
   "outputs": [],
   "source": [
    "import matplotlib.lines as lines\n",
    "plt.rcParams[\"axes.axisbelow\"] = False"
   ]
  },
  {
   "cell_type": "markdown",
   "metadata": {},
   "source": [
    "# Chromosomal connectivity\n",
    "\n",
    "Taking the multilayer networks of healthy and breast cancer, we show how chromosomal connectivity:\n",
    "\n",
    "1. Is **almost** constant in healthy layers\n",
    "2. \"Explodes\" in breast cancer"
   ]
  },
  {
   "cell_type": "code",
   "execution_count": 4,
   "metadata": {},
   "outputs": [],
   "source": [
    "DATA = \"/Users/rdora/breast_cancer/data/\"\n",
    "FIG = \"/Users/rdora/Dropbox/inmegen/breast_cancer/article/figures/\""
   ]
  },
  {
   "cell_type": "code",
   "execution_count": 5,
   "metadata": {},
   "outputs": [],
   "source": [
    "df = pd.read_csv(join(DATA, \"netparams_tidy.csv\"))"
   ]
  },
  {
   "cell_type": "code",
   "execution_count": 6,
   "metadata": {},
   "outputs": [],
   "source": [
    "df = df[(df.Param==\"A.A\") & (df.Tissue.isin([\"Healthy\", \"Basal\"]))]"
   ]
  },
  {
   "cell_type": "code",
   "execution_count": 7,
   "metadata": {},
   "outputs": [],
   "source": [
    "df = df[df.Layer >= 0]"
   ]
  },
  {
   "cell_type": "code",
   "execution_count": 38,
   "metadata": {},
   "outputs": [],
   "source": [
    "lines.Line2D?"
   ]
  },
  {
   "cell_type": "code",
   "execution_count": 65,
   "metadata": {},
   "outputs": [
    {
     "data": {
      "image/png": "[encoded data removed]",
      "text/plain": [
       "<Figure size 360x216 with 2 Axes>"
      ]
     },
     "metadata": {
      "needs_background": "light"
     },
     "output_type": "display_data"
    }
   ],
   "source": [
    "fig, axs = plt.subplots(1, 2, figsize=(5, 3))\n",
    "\n",
    "with sns.color_palette('deep'):\n",
    "    sns.lineplot(x='Value', y='Layer', hue='Tissue', data=df,\n",
    "                ax=axs[0], linewidth=3)\n",
    "    sns.lineplot(x='Value', y='Layer', hue='Tissue', data=df[(df.Layer >= 95)],\n",
    "                ax=axs[1], linewidth=3)\n",
    "fig.tight_layout()\n",
    "\n",
    "# 0 discontinous line\n",
    "axs[0].axvline(0, linewidth=2, c='k', linestyle='--')\n",
    "axs[1].axvline(0, linewidth=2, c='k', linestyle='--')\n",
    "\n",
    "# Change x labels\n",
    "axs[0].set_xlabel('AAC')\n",
    "axs[1].set_xlabel('AAC')\n",
    "\n",
    "# Remove second plot y label\n",
    "axs[1].set_ylabel(\"\")\n",
    "l1 = lines.Line2D(\n",
    "    [0.48, 0.615], [0.945, 0.945], transform=fig.transFigure, figure=fig,\n",
    "    linewidth=1, linestyle=\"--\", color=\"gray\")\n",
    "l2 = lines.Line2D(\n",
    "    [0.48, 0.575], [0.9, 0.39], transform=fig.transFigure, figure=fig,\n",
    "    linewidth=1, linestyle=\"--\", color=\"gray\")\n",
    "l3 = lines.Line2D(\n",
    "    [0.59, 0.615], [0.33, 0.19], transform=fig.transFigure, figure=fig,\n",
    "    linewidth=1, linestyle=\"--\", color=\"gray\")\n",
    "fig.lines.extend([l1, l2, l3])\n",
    "# Savefig\n",
    "fig.savefig(join(FIG, \"chromosomal_connectivity.png\"),\n",
    "           dpi=300)"
   ]
  },
  {
   "cell_type": "markdown",
   "metadata": {},
   "source": [
    "## Mean square error"
   ]
  },
  {
   "cell_type": "code",
   "execution_count": 71,
   "metadata": {},
   "outputs": [
    {
     "name": "stdout",
     "output_type": "stream",
     "text": [
      "Mean healthy AAC: 0.0038484080739092483\n",
      "Mean basal AAC: 0.04723368114806523\n",
      "MSE healthy AAC from 0: 3.158856482714501e-05\n",
      "MSE basal AAC from 0: 0.018598470901857626\n",
      "\n",
      "Top 10 Mean healthy AAC: 0.016350678906956805\n",
      "Top 10 Mean basal AAC: 0.4468958045334505\n",
      "Top 10 MSE healthy AAC from 0: 0.00031027198105546325\n",
      "Top 10 MSE basal AAC from 0: 0.2981974546820801\n",
      "\n"
     ]
    }
   ],
   "source": [
    "# Average and mean square error from random chromosomal connectivity\n",
    "\n",
    "mean_h = df[df['Tissue']=='Healthy'].Value.mean()\n",
    "mean_b = df[df['Tissue']=='Basal'].Value.mean()\n",
    "\n",
    "print(f\"Mean healthy AAC: {mean_h}\")\n",
    "print(f\"Mean basal AAC: {mean_b}\")\n",
    "\n",
    "z = np.zeros(101)\n",
    "mse_h = mean_squared_error(z, df[df.Tissue=='Healthy'].Value.values)\n",
    "mse_b = mean_squared_error(z, df[df.Tissue=='Basal'].Value.values)\n",
    "\n",
    "print(f\"MSE healthy AAC from 0: {mse_h}\")\n",
    "print(f\"MSE basal AAC from 0: {mse_b}\\n\")\n",
    "\n",
    "# Same but for top 5 layers\n",
    "mean_h = df[(df['Tissue']=='Healthy') & (df.Layer >= 95)].Value.mean()\n",
    "mean_b = df[(df['Tissue']=='Basal') & (df.Layer >= 95)].Value.mean()\n",
    "\n",
    "z = np.zeros(6)\n",
    "mse_h = mean_squared_error(z, df[(df.Tissue=='Healthy') & (df.Layer >= 95)].Value.values )\n",
    "mse_b = mean_squared_error(z, df[(df.Tissue=='Basal') & (df.Layer >= 95)].Value.values)\n",
    "\n",
    "print(f\"Top 10 Mean healthy AAC: {mean_h}\")\n",
    "print(f\"Top 10 Mean basal AAC: {mean_b}\")\n",
    "\n",
    "print(f\"Top 10 MSE healthy AAC from 0: {mse_h}\")\n",
    "print(f\"Top 10 MSE basal AAC from 0: {mse_b}\\n\")"
   ]
  },
  {
   "cell_type": "code",
   "execution_count": 65,
   "metadata": {},
   "outputs": [
    {
     "data": {
      "text/html": [
       "<div>\n",
       "<style scoped>\n",
       "    .dataframe tbody tr th:only-of-type {\n",
       "        vertical-align: middle;\n",
       "    }\n",
       "\n",
       "    .dataframe tbody tr th {\n",
       "        vertical-align: top;\n",
       "    }\n",
       "\n",
       "    .dataframe thead th {\n",
       "        text-align: right;\n",
       "    }\n",
       "</style>\n",
       "<table border=\"1\" class=\"dataframe\">\n",
       "  <thead>\n",
       "    <tr style=\"text-align: right;\">\n",
       "      <th></th>\n",
       "      <th>Tissue</th>\n",
       "      <th>Layer</th>\n",
       "      <th>Param</th>\n",
       "      <th>Value</th>\n",
       "    </tr>\n",
       "  </thead>\n",
       "  <tbody>\n",
       "    <tr>\n",
       "      <th>1589</th>\n",
       "      <td>Healthy</td>\n",
       "      <td>0</td>\n",
       "      <td>A.A</td>\n",
       "      <td>-0.000644</td>\n",
       "    </tr>\n",
       "    <tr>\n",
       "      <th>2029</th>\n",
       "      <td>Basal</td>\n",
       "      <td>0</td>\n",
       "      <td>A.A</td>\n",
       "      <td>-0.006283</td>\n",
       "    </tr>\n",
       "  </tbody>\n",
       "</table>\n",
       "</div>"
      ],
      "text/plain": [
       "       Tissue  Layer Param     Value\n",
       "1589  Healthy      0   A.A -0.000644\n",
       "2029    Basal      0   A.A -0.006283"
      ]
     },
     "execution_count": 65,
     "metadata": {},
     "output_type": "execute_result"
    }
   ],
   "source": [
    "df[df['Layer']==0]"
   ]
  },
  {
   "cell_type": "code",
   "execution_count": 51,
   "metadata": {},
   "outputs": [
    {
     "data": {
      "text/html": [
       "<div>\n",
       "<style scoped>\n",
       "    .dataframe tbody tr th:only-of-type {\n",
       "        vertical-align: middle;\n",
       "    }\n",
       "\n",
       "    .dataframe tbody tr th {\n",
       "        vertical-align: top;\n",
       "    }\n",
       "\n",
       "    .dataframe thead th {\n",
       "        text-align: right;\n",
       "    }\n",
       "</style>\n",
       "<table border=\"1\" class=\"dataframe\">\n",
       "  <thead>\n",
       "    <tr style=\"text-align: right;\">\n",
       "      <th></th>\n",
       "      <th>Tissue</th>\n",
       "      <th>Layer</th>\n",
       "      <th>Param</th>\n",
       "      <th>Value</th>\n",
       "    </tr>\n",
       "  </thead>\n",
       "  <tbody>\n",
       "    <tr>\n",
       "      <th>1552</th>\n",
       "      <td>Healthy</td>\n",
       "      <td>3</td>\n",
       "      <td>A.A</td>\n",
       "      <td>0.000303</td>\n",
       "    </tr>\n",
       "    <tr>\n",
       "      <th>1558</th>\n",
       "      <td>Healthy</td>\n",
       "      <td>8</td>\n",
       "      <td>A.A</td>\n",
       "      <td>-0.000053</td>\n",
       "    </tr>\n",
       "    <tr>\n",
       "      <th>1566</th>\n",
       "      <td>Healthy</td>\n",
       "      <td>9</td>\n",
       "      <td>A.A</td>\n",
       "      <td>-0.000202</td>\n",
       "    </tr>\n",
       "    <tr>\n",
       "      <th>1581</th>\n",
       "      <td>Healthy</td>\n",
       "      <td>19</td>\n",
       "      <td>A.A</td>\n",
       "      <td>0.000942</td>\n",
       "    </tr>\n",
       "    <tr>\n",
       "      <th>1585</th>\n",
       "      <td>Healthy</td>\n",
       "      <td>1</td>\n",
       "      <td>A.A</td>\n",
       "      <td>0.000874</td>\n",
       "    </tr>\n",
       "    <tr>\n",
       "      <th>1589</th>\n",
       "      <td>Healthy</td>\n",
       "      <td>0</td>\n",
       "      <td>A.A</td>\n",
       "      <td>-0.000644</td>\n",
       "    </tr>\n",
       "    <tr>\n",
       "      <th>1624</th>\n",
       "      <td>Healthy</td>\n",
       "      <td>13</td>\n",
       "      <td>A.A</td>\n",
       "      <td>0.000775</td>\n",
       "    </tr>\n",
       "    <tr>\n",
       "      <th>1627</th>\n",
       "      <td>Healthy</td>\n",
       "      <td>33</td>\n",
       "      <td>A.A</td>\n",
       "      <td>0.000976</td>\n",
       "    </tr>\n",
       "    <tr>\n",
       "      <th>1631</th>\n",
       "      <td>Healthy</td>\n",
       "      <td>16</td>\n",
       "      <td>A.A</td>\n",
       "      <td>0.000544</td>\n",
       "    </tr>\n",
       "  </tbody>\n",
       "</table>\n",
       "</div>"
      ],
      "text/plain": [
       "       Tissue  Layer Param     Value\n",
       "1552  Healthy      3   A.A  0.000303\n",
       "1558  Healthy      8   A.A -0.000053\n",
       "1566  Healthy      9   A.A -0.000202\n",
       "1581  Healthy     19   A.A  0.000942\n",
       "1585  Healthy      1   A.A  0.000874\n",
       "1589  Healthy      0   A.A -0.000644\n",
       "1624  Healthy     13   A.A  0.000775\n",
       "1627  Healthy     33   A.A  0.000976\n",
       "1631  Healthy     16   A.A  0.000544"
      ]
     },
     "execution_count": 51,
     "metadata": {},
     "output_type": "execute_result"
    }
   ],
   "source": [
    "df[(df.Tissue=='Healthy') & (df.Value <= 0.001)]"
   ]
  }
 ],
 "metadata": {
  "kernelspec": {
   "display_name": "Python 3",
   "language": "python",
   "name": "python3"
  },
  "language_info": {
   "codemirror_mode": {
    "name": "ipython",
    "version": 3
   },
   "file_extension": ".py",
   "mimetype": "text/x-python",
   "name": "python",
   "nbconvert_exporter": "python",
   "pygments_lexer": "ipython3",
   "version": "3.7.3"
  }
 },
 "nbformat": 4,
 "nbformat_minor": 2
}
